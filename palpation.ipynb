{
 "cells": [
  {
   "cell_type": "markdown",
   "id": "58bea662",
   "metadata": {},
   "source": [
    "# Setup\n",
    "https://github.com/RobinMagnet/pyFM\n",
    "\n",
    "```\n",
    "conda activate\n",
    "juptyer notebook\n",
    "```"
   ]
  },
  {
   "cell_type": "code",
   "execution_count": 1,
   "id": "3510c10f",
   "metadata": {},
   "outputs": [],
   "source": [
    "import numpy as np\n",
    "from stl import mesh"
   ]
  },
  {
   "cell_type": "code",
   "execution_count": 2,
   "id": "b689bcb9",
   "metadata": {},
   "outputs": [],
   "source": [
    "from pyFM.mesh import TriMesh\n",
    "from pyFM.functional import FunctionalMapping\n",
    "\n",
    "import meshplot as mp\n",
    "\n",
    "def plot_mesh(myMesh,cmap=None):\n",
    "    mp.plot(myMesh.vertlist, myMesh.facelist,c=cmap)\n",
    "    \n",
    "def double_plot(myMesh1,myMesh2,cmap1=None,cmap2=None):\n",
    "    d = mp.subplot(myMesh1.vertlist, myMesh1.facelist, c=cmap1, s=[2, 2, 0])\n",
    "    mp.subplot(myMesh2.vertlist, myMesh2.facelist, c=cmap2, s=[2, 2, 1], data=d)\n",
    "\n",
    "def visu(vertices):\n",
    "    min_coord,max_coord = np.min(vertices,axis=0,keepdims=True),np.max(vertices,axis=0,keepdims=True)\n",
    "    cmap = (vertices-min_coord)/(max_coord-min_coord)\n",
    "    return cmap"
   ]
  },
  {
   "cell_type": "markdown",
   "id": "61846255",
   "metadata": {},
   "source": [
    "# Load palpation pointcloud\n",
    "If needed to convert to Mesh : https://github.com/OpenTopography/PointCloud_to_STL/blob/main/OT_VoxeltoSTL.ipynb"
   ]
  },
  {
   "cell_type": "code",
   "execution_count": 3,
   "id": "db5a061a",
   "metadata": {},
   "outputs": [
    {
     "name": "stdout",
     "output_type": "stream",
     "text": [
      "Number of points in original file: 332\n"
     ]
    }
   ],
   "source": [
    "points = np.loadtxt(\"data/manual_palpation_1.csv\", dtype=float, delimiter=',', \n",
    "                    skiprows=1, #Skip header\n",
    "                    usecols=(7,8,9)) #Translations\n",
    "# display(points)\n",
    "print(\"Number of points in original file:\",len(points))\n",
    "\n",
    "mesh2=TriMesh(points, center=False)"
   ]
  },
  {
   "cell_type": "markdown",
   "id": "e45850eb",
   "metadata": {},
   "source": [
    "# Load model"
   ]
  },
  {
   "cell_type": "markdown",
   "id": "38dc7ef5",
   "metadata": {},
   "source": [
    "## Convert STL to OFF\n",
    "\n",
    "(Might not work depending on encoding...) From https://github.com/tforgione/model-converter-python :\n",
    "python3 convert.py -i ../data/palpation_part1.stl -o ../data/palpation.off\n",
    "\n",
    "\n",
    "\n",
    "In the meantime : https://imagetostl.com/convert/file/stl/to/off"
   ]
  },
  {
   "cell_type": "markdown",
   "id": "28c1b0a6",
   "metadata": {},
   "source": [
    "## Load mesh"
   ]
  },
  {
   "cell_type": "code",
   "execution_count": 28,
   "id": "d0642b48",
   "metadata": {},
   "outputs": [
    {
     "data": {
      "text/plain": [
       "array([0.12      , 0.023     , 0.03274316])"
      ]
     },
     "metadata": {},
     "output_type": "display_data"
    },
    {
     "data": {
      "text/plain": [
       "array([-5.551115e-17, -5.000000e-03, -2.400000e-02])"
      ]
     },
     "metadata": {},
     "output_type": "display_data"
    },
    {
     "data": {
      "text/plain": [
       "array([0.12      , 0.023     , 0.03274316])"
      ]
     },
     "metadata": {},
     "output_type": "display_data"
    },
    {
     "data": {
      "text/plain": [
       "array([-5.551115e-17, -1.000000e-05, -2.400000e-02])"
      ]
     },
     "metadata": {},
     "output_type": "display_data"
    }
   ],
   "source": [
    "mesh1 = TriMesh('data/palpation_part1.off')#, area_normalize=True, center=False)\n",
    "#mesh1 = TriMesh(mesh1.vertlist)\n",
    "mesh2 = TriMesh('data/palpation.off')#, area_normalize=True, center=False)\n",
    "#mesh2 = TriMesh(mesh2.vertlist)\n",
    "#mesh2 = TriMesh(mesh2.vertlist[(mesh2.vertlist[:,1]>0.08) & (mesh2.vertlist[:,2]<0.),:])\n",
    "\n",
    "#cond_idx, = np.where(mesh1.vertlist[:,1]>0)\n",
    "#display(cond_idx)\n",
    "#cond = np.isin(mesh1.facelist, cond_idx)\n",
    "#cond = cond[:,0] & cond[:,1] & cond[:,2]\n",
    "#mesh1 = TriMesh(mesh1.vertlist[mesh1.vertlist[:,1]>0,:], mesh1.facelist[cond,:])\n",
    "#display(mesh1.facelist.shape)\n",
    "display(np.amax(mesh1.vertlist, axis=0),np.amin(mesh1.vertlist, axis=0))\n",
    "display(np.amax(mesh2.vertlist, axis=0),np.amin(mesh2.vertlist, axis=0))"
   ]
  },
  {
   "cell_type": "markdown",
   "id": "a1bc30ad",
   "metadata": {},
   "source": [
    "# Compute functional map\n",
    "\n",
    "**Display meshes data**"
   ]
  },
  {
   "cell_type": "code",
   "execution_count": 5,
   "id": "f94fa789",
   "metadata": {},
   "outputs": [
    {
     "name": "stdout",
     "output_type": "stream",
     "text": [
      "Mesh 1 : 1648 vertices,  3292 faces\n",
      "Mesh 2 : 8231 vertices, 16860 faces\n"
     ]
    },
    {
     "name": "stderr",
     "output_type": "stream",
     "text": [
      "/home/antoineh/.local/lib/python3.9/site-packages/jupyter_client/session.py:718: UserWarning: Message serialization failed with:\n",
      "Out of range float values are not JSON compliant\n",
      "Supporting this message is deprecated in jupyter-client 7, please make sure your message is JSON-compliant\n",
      "  content = self.pack(content)\n"
     ]
    },
    {
     "data": {
      "application/vnd.jupyter.widget-view+json": {
       "model_id": "8739365216bd4ff1bd34a30de188991a",
       "version_major": 2,
       "version_minor": 0
      },
      "text/plain": [
       "HBox(children=(Output(), Output()))"
      ]
     },
     "metadata": {},
     "output_type": "display_data"
    },
    {
     "data": {
      "application/vnd.jupyter.widget-view+json": {
       "model_id": "27eb580559be4dad811de8e46b065efd",
       "version_major": 2,
       "version_minor": 0
      },
      "text/plain": [
       "HBox(children=(Output(), Output()))"
      ]
     },
     "metadata": {},
     "output_type": "display_data"
    }
   ],
   "source": [
    "print(f'Mesh 1 : {mesh1.n_vertices:4d} vertices, {mesh1.n_faces:5d} faces\\n'\n",
    "      f'Mesh 2 : {mesh2.n_vertices:4d} vertices, {mesh2.n_faces:5d} faces')\n",
    "double_plot(mesh1, mesh2)"
   ]
  },
  {
   "cell_type": "markdown",
   "id": "ca602393",
   "metadata": {},
   "source": [
    "**Computing landmarks**\n",
    "\n",
    "Results seems really dependent on landmarks (corresponding points indexs on the two meshes)"
   ]
  },
  {
   "cell_type": "code",
   "execution_count": 29,
   "id": "6d90579e",
   "metadata": {},
   "outputs": [],
   "source": [
    "def getLandmarkIndex(points, coord):\n",
    "    indexes = np.nonzero(np.isclose(points[:,0],coord[0]) & np.isclose(points[:,1],coord[1]) & np.isclose(points[:,2],coord[2]))\n",
    "    return indexes[0][0] #Return first one found (throw error if none is found)"
   ]
  },
  {
   "cell_type": "code",
   "execution_count": 46,
   "id": "10d39c5f",
   "metadata": {},
   "outputs": [
    {
     "data": {
      "text/plain": [
       "array([[214, 216],\n",
       "       [104, 105],\n",
       "       [432, 435],\n",
       "       [641, 644],\n",
       "       [643, 646],\n",
       "       [828, 831],\n",
       "       [687, 690]])"
      ]
     },
     "metadata": {},
     "output_type": "display_data"
    }
   ],
   "source": [
    "landmarks = np.array([\n",
    "    #[np.argmax(mesh1.vertlist,axis=0)[0], np.argmax(mesh2.vertlist,axis=0)[0]],\n",
    "    #[np.argmin(mesh1.vertlist,axis=0)[0], np.argmin(mesh2.vertlist,axis=0)[0]],\n",
    "    #[np.argmax(mesh1.vertlist,axis=0)[1], np.argmax(mesh2.vertlist,axis=0)[1]],\n",
    "    #[np.argmin(mesh1.vertlist,axis=0)[1], np.argmin(mesh2.vertlist,axis=0)[1]],\n",
    "    #[np.argmax(mesh1.vertlist,axis=0)[2], np.argmax(mesh2.vertlist,axis=0)[2]],\n",
    "    #[np.argmin(mesh1.vertlist,axis=0)[2], np.argmin(mesh2.vertlist,axis=0)[2]],\n",
    "    #Pyramids\n",
    "    [getLandmarkIndex(mesh1.vertlist, [0.09, 0.016, -0.012]), getLandmarkIndex(mesh2.vertlist, [0.09, 0.016, -0.012])],\n",
    "    [getLandmarkIndex(mesh1.vertlist, [0.09, 0.016, 0.012]), getLandmarkIndex(mesh2.vertlist, [0.09, 0.016, 0.012])],\n",
    "    [getLandmarkIndex(mesh1.vertlist, [0.11, 0.016, -0.012]), getLandmarkIndex(mesh2.vertlist, [0.11, 0.016, -0.012])],\n",
    "    #Wall\n",
    "    [getLandmarkIndex(mesh1.vertlist, [0., 0.02, -0.002]), getLandmarkIndex(mesh2.vertlist, [0., 0.02, -0.002])],\n",
    "    [getLandmarkIndex(mesh1.vertlist, [0., 0.02, 0.002]), getLandmarkIndex(mesh2.vertlist, [0., 0.02, 0.002])],\n",
    "    #Cylinder\n",
    "    [getLandmarkIndex(mesh1.vertlist, [0.03, 0.017, 0.032743]), getLandmarkIndex(mesh2.vertlist, [0.03, 0.017, 0.032743])],\n",
    "    [getLandmarkIndex(mesh1.vertlist, [0.01, 0.02, 0.022]), getLandmarkIndex(mesh2.vertlist, [0.01, 0.02, 0.022])],\n",
    "])\n",
    "display(landmarks)\n",
    "#double_plot(mesh1, TriMesh(mesh1.vertlist[landmarks[:,0]]))"
   ]
  },
  {
   "cell_type": "markdown",
   "id": "c9d1943b",
   "metadata": {},
   "source": [
    "**Computing descriptors**"
   ]
  },
  {
   "cell_type": "code",
   "execution_count": 47,
   "id": "82eacaf9",
   "metadata": {},
   "outputs": [
    {
     "name": "stdout",
     "output_type": "stream",
     "text": [
      "\n",
      "Computing Laplacian spectrum\n",
      "Computing 200 eigenvectors\n",
      "\tDone in 0.21 s\n",
      "Computing 200 eigenvectors\n",
      "\tDone in 1.97 s\n",
      "\n",
      "Computing descriptors\n",
      "\tNormalizing descriptors\n",
      "\n",
      "\t800 out of 800 possible descriptors kept\n"
     ]
    }
   ],
   "source": [
    "process_params = {\n",
    "    'n_ev': (50,50),  # Number of eigenvalues on source and Target\n",
    "    'n_descr': 100, #number of descriptors to consider\n",
    "    'landmarks': landmarks, #np.loadtxt('data/landmarks.txt',dtype=int)[:5],  # loading 5 landmarks\n",
    "    'subsample_step': 1,  # In order not to use too many descriptors\n",
    "    'descr_type': 'WKS',  # WKS or HKS\n",
    "}\n",
    "\n",
    "model = FunctionalMapping(mesh1,mesh2)\n",
    "model.preprocess(**process_params,verbose=True);"
   ]
  },
  {
   "cell_type": "markdown",
   "id": "910096ba",
   "metadata": {},
   "source": [
    "**Fitting the model**"
   ]
  },
  {
   "cell_type": "code",
   "execution_count": 48,
   "id": "810f1d6f",
   "metadata": {},
   "outputs": [
    {
     "name": "stdout",
     "output_type": "stream",
     "text": [
      "Computing commutativity operators\n",
      "\tScaling LBO commutativity weight by 3.0e-13\n",
      "\n",
      "Optimization :\n",
      "\t50 Ev on source - 50 Ev on Target\n",
      "\tUsing 800 Descriptors\n",
      "\tHyperparameters :\n",
      "\t\tDescriptors preservation :1.0e-01\n",
      "\t\tDescriptors commutativity :1.0e+00\n",
      "\t\tLaplacian commutativity :1.0e-03\n",
      "\t\tOrientation preservation :0.0e+00\n",
      "\n",
      "\tTask : CONVERGENCE: REL_REDUCTION_OF_F_<=_FACTR*EPSMCH, funcall : 30, nit : 27, warnflag : 0\n",
      "\tDone in 1.69 seconds\n"
     ]
    }
   ],
   "source": [
    "fit_params = {\n",
    "    'w_descr': 1e-1, #scaling for the descriptor preservation term\n",
    "    'w_lap': 1e-3, #scaling of the laplacian commutativity term\n",
    "    'w_dcomm': 1, #scaling of the multiplicative operator commutativity\n",
    "    'w_orient': 0, #scaling of the orientation preservation term\n",
    "    'orient_reversing':True, #Whether to use the orientation reversing term instead of the orientation preservation one\n",
    "    'optinit':'zeros' #Initialization\n",
    "}\n",
    "\n",
    "\n",
    "model.fit(**fit_params, verbose=True)"
   ]
  },
  {
   "cell_type": "markdown",
   "id": "0a57e65e",
   "metadata": {},
   "source": [
    "**Visualizing the associated point to point map**"
   ]
  },
  {
   "cell_type": "code",
   "execution_count": 52,
   "id": "67b86106",
   "metadata": {},
   "outputs": [
    {
     "name": "stderr",
     "output_type": "stream",
     "text": [
      "/home/antoineh/.local/lib/python3.9/site-packages/jupyter_client/session.py:718: UserWarning: Message serialization failed with:\n",
      "Out of range float values are not JSON compliant\n",
      "Supporting this message is deprecated in jupyter-client 7, please make sure your message is JSON-compliant\n",
      "  content = self.pack(content)\n"
     ]
    },
    {
     "data": {
      "application/vnd.jupyter.widget-view+json": {
       "model_id": "c65fabe402604d949aef5af4caaedfa1",
       "version_major": 2,
       "version_minor": 0
      },
      "text/plain": [
       "HBox(children=(Output(), Output()))"
      ]
     },
     "metadata": {},
     "output_type": "display_data"
    },
    {
     "data": {
      "application/vnd.jupyter.widget-view+json": {
       "model_id": "3b40ca17da924b7094d2e73e64815a16",
       "version_major": 2,
       "version_minor": 0
      },
      "text/plain": [
       "HBox(children=(Output(), Output()))"
      ]
     },
     "metadata": {},
     "output_type": "display_data"
    }
   ],
   "source": [
    "p2p_21 = model.get_p2p(n_jobs=1)\n",
    "cmap1 = visu(mesh1.vertlist); cmap2 = cmap1[p2p_21]\n",
    "double_plot(mesh1,mesh2,cmap1,cmap2)"
   ]
  },
  {
   "cell_type": "markdown",
   "id": "ea36a975",
   "metadata": {},
   "source": [
    "## Refinining the Functioal Map\n",
    "\n",
    "**ICP**"
   ]
  },
  {
   "cell_type": "code",
   "execution_count": 50,
   "id": "6f7c7b7a",
   "metadata": {},
   "outputs": [
    {
     "data": {
      "application/vnd.jupyter.widget-view+json": {
       "model_id": "482cfecf90d140a7bbc42150b5b241e5",
       "version_major": 2,
       "version_minor": 0
      },
      "text/plain": [
       "  0%|          | 0/10 [00:00<?, ?it/s]"
      ]
     },
     "metadata": {},
     "output_type": "display_data"
    },
    {
     "name": "stderr",
     "output_type": "stream",
     "text": [
      "/home/antoineh/.local/lib/python3.9/site-packages/jupyter_client/session.py:718: UserWarning: Message serialization failed with:\n",
      "Out of range float values are not JSON compliant\n",
      "Supporting this message is deprecated in jupyter-client 7, please make sure your message is JSON-compliant\n",
      "  content = self.pack(content)\n"
     ]
    },
    {
     "data": {
      "application/vnd.jupyter.widget-view+json": {
       "model_id": "9f278dd0c12948cda3b6ebb0cc6dbf7e",
       "version_major": 2,
       "version_minor": 0
      },
      "text/plain": [
       "HBox(children=(Output(), Output()))"
      ]
     },
     "metadata": {},
     "output_type": "display_data"
    },
    {
     "data": {
      "application/vnd.jupyter.widget-view+json": {
       "model_id": "1622ee023e054a189d47847c67a65763",
       "version_major": 2,
       "version_minor": 0
      },
      "text/plain": [
       "HBox(children=(Output(), Output()))"
      ]
     },
     "metadata": {},
     "output_type": "display_data"
    }
   ],
   "source": [
    "model.icp_refine(verbose=True)\n",
    "p2p_21_icp = model.get_p2p()\n",
    "cmap1 = visu(mesh1.vertlist); cmap2 = cmap1[p2p_21_icp]\n",
    "double_plot(mesh1,mesh2,cmap1,cmap2)"
   ]
  },
  {
   "cell_type": "markdown",
   "id": "0fc33ed0",
   "metadata": {},
   "source": [
    "**Zoomout**"
   ]
  },
  {
   "cell_type": "code",
   "execution_count": 51,
   "id": "5e557ee2",
   "metadata": {},
   "outputs": [
    {
     "data": {
      "application/vnd.jupyter.widget-view+json": {
       "model_id": "29b196998421490e80a9e97d46ae1285",
       "version_major": 2,
       "version_minor": 0
      },
      "text/plain": [
       "  0%|          | 0/15 [00:00<?, ?it/s]"
      ]
     },
     "metadata": {},
     "output_type": "display_data"
    },
    {
     "name": "stdout",
     "output_type": "stream",
     "text": [
      "(65, 65)\n"
     ]
    },
    {
     "name": "stderr",
     "output_type": "stream",
     "text": [
      "/home/antoineh/.local/lib/python3.9/site-packages/jupyter_client/session.py:718: UserWarning: Message serialization failed with:\n",
      "Out of range float values are not JSON compliant\n",
      "Supporting this message is deprecated in jupyter-client 7, please make sure your message is JSON-compliant\n",
      "  content = self.pack(content)\n"
     ]
    },
    {
     "data": {
      "application/vnd.jupyter.widget-view+json": {
       "model_id": "4f0c6276708349dea3df80caf213084d",
       "version_major": 2,
       "version_minor": 0
      },
      "text/plain": [
       "HBox(children=(Output(), Output()))"
      ]
     },
     "metadata": {},
     "output_type": "display_data"
    },
    {
     "data": {
      "application/vnd.jupyter.widget-view+json": {
       "model_id": "ffe3f8192f7642149b2fe567f1d91a2b",
       "version_major": 2,
       "version_minor": 0
      },
      "text/plain": [
       "HBox(children=(Output(), Output()))"
      ]
     },
     "metadata": {},
     "output_type": "display_data"
    }
   ],
   "source": [
    "model.change_FM_type('classic') # We refine the first computed map, not the icp-refined one\n",
    "model.zoomout_refine(nit=15, step = 1, verbose=True)\n",
    "print(model.FM.shape)\n",
    "p2p_21_zo = model.get_p2p()\n",
    "cmap1 = visu(mesh1.vertlist); cmap2 = cmap1[p2p_21_zo]\n",
    "double_plot(mesh1,mesh2,cmap1,cmap2)"
   ]
  }
 ],
 "metadata": {
  "kernelspec": {
   "display_name": "Python 3 (ipykernel)",
   "language": "python",
   "name": "python3"
  },
  "language_info": {
   "codemirror_mode": {
    "name": "ipython",
    "version": 3
   },
   "file_extension": ".py",
   "mimetype": "text/x-python",
   "name": "python",
   "nbconvert_exporter": "python",
   "pygments_lexer": "ipython3",
   "version": "3.9.12"
  },
  "vscode": {
   "interpreter": {
    "hash": "cba0f91b1dcc8f960ed8fe695b9b685a626b227e7d97b4f4b4a7ffd0c4a80b8f"
   }
  }
 },
 "nbformat": 4,
 "nbformat_minor": 5
}
